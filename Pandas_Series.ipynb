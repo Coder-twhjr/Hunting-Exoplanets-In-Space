{
  "nbformat": 4,
  "nbformat_minor": 0,
  "metadata": {
    "colab": {
      "provenance": [],
      "collapsed_sections": [],
      "include_colab_link": true
    },
    "kernelspec": {
      "name": "python3",
      "display_name": "Python 3"
    }
  },
  "cells": [
    {
      "cell_type": "markdown",
      "metadata": {
        "id": "view-in-github",
        "colab_type": "text"
      },
      "source": [
        "<a href=\"https://colab.research.google.com/github/Coder-twhjr/Hunting-Exoplanets-In-Space/blob/main/Pandas_Series.ipynb\" target=\"_parent\"><img src=\"https://colab.research.google.com/assets/colab-badge.svg\" alt=\"Open In Colab\"/></a>"
      ]
    },
    {
      "cell_type": "markdown",
      "metadata": {
        "id": "KZngaph1E1HU"
      },
      "source": [
        "#Pandas Series"
      ]
    },
    {
      "cell_type": "markdown",
      "metadata": {
        "id": "6zaxTgXE5_5n"
      },
      "source": [
        "---"
      ]
    },
    {
      "cell_type": "markdown",
      "metadata": {
        "id": "6VYKPpnVavVx"
      },
      "source": [
        "####Python List To Pandas Series Conversion"
      ]
    },
    {
      "cell_type": "code",
      "metadata": {
        "id": "EMr9AICpP2wY",
        "colab": {
          "base_uri": "https://localhost:8080/"
        },
        "outputId": "efeb8f76-1d07-47ca-8ee0-cbd1f21265d1"
      },
      "source": [
        "import random\n",
        "import pandas as pd\n",
        "\n",
        "weights = pd.Series([random.randint(45, 60) for i in range(30)])\n",
        "weights"
      ],
      "execution_count": 1,
      "outputs": [
        {
          "output_type": "execute_result",
          "data": {
            "text/plain": [
              "0     51\n",
              "1     47\n",
              "2     60\n",
              "3     50\n",
              "4     50\n",
              "5     60\n",
              "6     52\n",
              "7     46\n",
              "8     55\n",
              "9     52\n",
              "10    60\n",
              "11    55\n",
              "12    51\n",
              "13    53\n",
              "14    50\n",
              "15    54\n",
              "16    53\n",
              "17    58\n",
              "18    60\n",
              "19    55\n",
              "20    59\n",
              "21    49\n",
              "22    49\n",
              "23    54\n",
              "24    48\n",
              "25    48\n",
              "26    57\n",
              "27    47\n",
              "28    55\n",
              "29    56\n",
              "dtype: int64"
            ]
          },
          "metadata": {},
          "execution_count": 1
        }
      ]
    },
    {
      "cell_type": "code",
      "metadata": {
        "id": "TDnNWIjxz99A",
        "colab": {
          "base_uri": "https://localhost:8080/"
        },
        "outputId": "e2b57487-da22-4fb4-fbd4-6cd382023c49"
      },
      "source": [
        "type(weights)"
      ],
      "execution_count": 2,
      "outputs": [
        {
          "output_type": "execute_result",
          "data": {
            "text/plain": [
              "pandas.core.series.Series"
            ]
          },
          "metadata": {},
          "execution_count": 2
        }
      ]
    },
    {
      "cell_type": "code",
      "metadata": {
        "id": "rsq1SJvObuMK",
        "colab": {
          "base_uri": "https://localhost:8080/"
        },
        "outputId": "ea0e5e85-373e-4058-edf4-7a979acdc192"
      },
      "source": [
        "planet_details = pd.Series(['Mercury', 4879, 3.7, False])\n",
        "print(planet_details)\n",
        "type(planet_details)"
      ],
      "execution_count": 3,
      "outputs": [
        {
          "output_type": "stream",
          "name": "stdout",
          "text": [
            "0    Mercury\n",
            "1       4879\n",
            "2        3.7\n",
            "3      False\n",
            "dtype: object\n"
          ]
        },
        {
          "output_type": "execute_result",
          "data": {
            "text/plain": [
              "pandas.core.series.Series"
            ]
          },
          "metadata": {},
          "execution_count": 3
        }
      ]
    },
    {
      "cell_type": "code",
      "metadata": {
        "id": "PUa5uRc2Cysy",
        "colab": {
          "base_uri": "https://localhost:8080/"
        },
        "outputId": "979184bb-df1e-4b0e-cc81-a7973872a669"
      },
      "source": [
        "weights.size"
      ],
      "execution_count": 4,
      "outputs": [
        {
          "output_type": "execute_result",
          "data": {
            "text/plain": [
              "30"
            ]
          },
          "metadata": {},
          "execution_count": 4
        }
      ]
    },
    {
      "cell_type": "code",
      "metadata": {
        "id": "-y9cRsdBDH-G",
        "colab": {
          "base_uri": "https://localhost:8080/"
        },
        "outputId": "72907dcf-354f-4abf-eb75-1f2b0630cdb9"
      },
      "source": [
        "weights.shape"
      ],
      "execution_count": 5,
      "outputs": [
        {
          "output_type": "execute_result",
          "data": {
            "text/plain": [
              "(30,)"
            ]
          },
          "metadata": {},
          "execution_count": 5
        }
      ]
    },
    {
      "cell_type": "markdown",
      "metadata": {
        "id": "KGtlRcPDBfPd"
      },
      "source": [
        "---"
      ]
    },
    {
      "cell_type": "markdown",
      "metadata": {
        "id": "SLrh_iDB1M74"
      },
      "source": [
        "####The `mean(), min(), max()` Functions"
      ]
    },
    {
      "cell_type": "code",
      "metadata": {
        "id": "Ce9nbvapc3HX",
        "colab": {
          "base_uri": "https://localhost:8080/"
        },
        "outputId": "14f4b431-4e2a-4fe9-9b76-b5c8329dd151"
      },
      "source": [
        "weights.mean()"
      ],
      "execution_count": 6,
      "outputs": [
        {
          "output_type": "execute_result",
          "data": {
            "text/plain": [
              "53.13333333333333"
            ]
          },
          "metadata": {},
          "execution_count": 6
        }
      ]
    },
    {
      "cell_type": "code",
      "metadata": {
        "id": "MoGFFlFGzm5_",
        "colab": {
          "base_uri": "https://localhost:8080/"
        },
        "outputId": "6a0547e7-4ba9-483f-f00f-8a049541bdb9"
      },
      "source": [
        "print(weights.min())\n",
        "weights.max()"
      ],
      "execution_count": 7,
      "outputs": [
        {
          "output_type": "stream",
          "name": "stdout",
          "text": [
            "46\n"
          ]
        },
        {
          "output_type": "execute_result",
          "data": {
            "text/plain": [
              "60"
            ]
          },
          "metadata": {},
          "execution_count": 7
        }
      ]
    },
    {
      "cell_type": "markdown",
      "metadata": {
        "id": "1Aa8dT_nBg0U"
      },
      "source": [
        "---"
      ]
    },
    {
      "cell_type": "markdown",
      "metadata": {
        "id": "ppYm2Q9V3s2H"
      },
      "source": [
        "####The `head()` And `tail()` Functions"
      ]
    },
    {
      "cell_type": "code",
      "metadata": {
        "id": "C2mEBmQv1wmr",
        "colab": {
          "base_uri": "https://localhost:8080/"
        },
        "outputId": "9a128e01-d12d-4370-9280-1b04811c5290"
      },
      "source": [
        "weights.head()"
      ],
      "execution_count": 8,
      "outputs": [
        {
          "output_type": "execute_result",
          "data": {
            "text/plain": [
              "0    51\n",
              "1    47\n",
              "2    60\n",
              "3    50\n",
              "4    50\n",
              "dtype: int64"
            ]
          },
          "metadata": {},
          "execution_count": 8
        }
      ]
    },
    {
      "cell_type": "code",
      "metadata": {
        "id": "4BZ0vDmy4kWQ",
        "colab": {
          "base_uri": "https://localhost:8080/"
        },
        "outputId": "06a7ae64-3d26-40f8-be89-4f96e07a0257"
      },
      "source": [
        "weights.tail()"
      ],
      "execution_count": 9,
      "outputs": [
        {
          "output_type": "execute_result",
          "data": {
            "text/plain": [
              "25    48\n",
              "26    57\n",
              "27    47\n",
              "28    55\n",
              "29    56\n",
              "dtype: int64"
            ]
          },
          "metadata": {},
          "execution_count": 9
        }
      ]
    },
    {
      "cell_type": "code",
      "metadata": {
        "id": "QX5A5rd23v01",
        "colab": {
          "base_uri": "https://localhost:8080/"
        },
        "outputId": "e4650ec4-d815-4750-a7c3-fa1c88383cbd"
      },
      "source": [
        "weights.head(8)"
      ],
      "execution_count": 10,
      "outputs": [
        {
          "output_type": "execute_result",
          "data": {
            "text/plain": [
              "0    51\n",
              "1    47\n",
              "2    60\n",
              "3    50\n",
              "4    50\n",
              "5    60\n",
              "6    52\n",
              "7    46\n",
              "dtype: int64"
            ]
          },
          "metadata": {},
          "execution_count": 10
        }
      ]
    },
    {
      "cell_type": "code",
      "metadata": {
        "id": "jG3-LcqW4Xps",
        "colab": {
          "base_uri": "https://localhost:8080/"
        },
        "outputId": "a9be9913-2a9d-42ec-fc33-5e09a325dd3b"
      },
      "source": [
        "weights.tail(12)"
      ],
      "execution_count": 11,
      "outputs": [
        {
          "output_type": "execute_result",
          "data": {
            "text/plain": [
              "18    60\n",
              "19    55\n",
              "20    59\n",
              "21    49\n",
              "22    49\n",
              "23    54\n",
              "24    48\n",
              "25    48\n",
              "26    57\n",
              "27    47\n",
              "28    55\n",
              "29    56\n",
              "dtype: int64"
            ]
          },
          "metadata": {},
          "execution_count": 11
        }
      ]
    },
    {
      "cell_type": "markdown",
      "metadata": {
        "id": "Rme5LFfDBjBl"
      },
      "source": [
        "---"
      ]
    },
    {
      "cell_type": "markdown",
      "metadata": {
        "id": "R-YHECv8272g"
      },
      "source": [
        "####Indexing A Pandas Series"
      ]
    },
    {
      "cell_type": "code",
      "metadata": {
        "id": "phhN5YRc3k3b",
        "colab": {
          "base_uri": "https://localhost:8080/"
        },
        "outputId": "9d55f4c9-1bf8-4553-c92b-0791ba59bd41"
      },
      "source": [
        "weights[13:22]"
      ],
      "execution_count": 12,
      "outputs": [
        {
          "output_type": "execute_result",
          "data": {
            "text/plain": [
              "13    53\n",
              "14    50\n",
              "15    54\n",
              "16    53\n",
              "17    58\n",
              "18    60\n",
              "19    55\n",
              "20    59\n",
              "21    49\n",
              "dtype: int64"
            ]
          },
          "metadata": {},
          "execution_count": 12
        }
      ]
    },
    {
      "cell_type": "code",
      "metadata": {
        "id": "OkuDG88ICFF8",
        "colab": {
          "base_uri": "https://localhost:8080/"
        },
        "outputId": "436634d4-62c8-459c-950d-591ad6a13d8d"
      },
      "source": [
        "weights[17:28]"
      ],
      "execution_count": 13,
      "outputs": [
        {
          "output_type": "execute_result",
          "data": {
            "text/plain": [
              "17    58\n",
              "18    60\n",
              "19    55\n",
              "20    59\n",
              "21    49\n",
              "22    49\n",
              "23    54\n",
              "24    48\n",
              "25    48\n",
              "26    57\n",
              "27    47\n",
              "dtype: int64"
            ]
          },
          "metadata": {},
          "execution_count": 13
        }
      ]
    },
    {
      "cell_type": "markdown",
      "metadata": {
        "id": "KyUdbTFud0V0"
      },
      "source": [
        "---"
      ]
    },
    {
      "cell_type": "markdown",
      "metadata": {
        "id": "kWIw-52mGY_O"
      },
      "source": [
        "####The `mode()` Function"
      ]
    },
    {
      "cell_type": "code",
      "metadata": {
        "id": "usuCFOT5DnI0",
        "colab": {
          "base_uri": "https://localhost:8080/"
        },
        "outputId": "5617afe7-4596-46a7-b6fb-86b10ed5b0aa"
      },
      "source": [
        "weights.mode()"
      ],
      "execution_count": 14,
      "outputs": [
        {
          "output_type": "execute_result",
          "data": {
            "text/plain": [
              "0    55\n",
              "1    60\n",
              "dtype: int64"
            ]
          },
          "metadata": {},
          "execution_count": 14
        }
      ]
    },
    {
      "cell_type": "markdown",
      "metadata": {
        "id": "8wRQOfR7Bmqr"
      },
      "source": [
        "---"
      ]
    },
    {
      "cell_type": "markdown",
      "metadata": {
        "id": "FHZ9M6342j2M"
      },
      "source": [
        "####The `sort_values()` Function"
      ]
    },
    {
      "cell_type": "code",
      "metadata": {
        "id": "Ahm8KCSm243J",
        "colab": {
          "base_uri": "https://localhost:8080/"
        },
        "outputId": "e7cc74fe-12cc-47e8-f802-5bab6c03f759"
      },
      "source": [
        "weights.sort_values(ascending=True)"
      ],
      "execution_count": 15,
      "outputs": [
        {
          "output_type": "execute_result",
          "data": {
            "text/plain": [
              "7     46\n",
              "1     47\n",
              "27    47\n",
              "25    48\n",
              "24    48\n",
              "22    49\n",
              "21    49\n",
              "14    50\n",
              "3     50\n",
              "4     50\n",
              "12    51\n",
              "0     51\n",
              "9     52\n",
              "6     52\n",
              "13    53\n",
              "16    53\n",
              "15    54\n",
              "23    54\n",
              "28    55\n",
              "19    55\n",
              "11    55\n",
              "8     55\n",
              "29    56\n",
              "26    57\n",
              "17    58\n",
              "20    59\n",
              "18    60\n",
              "2     60\n",
              "5     60\n",
              "10    60\n",
              "dtype: int64"
            ]
          },
          "metadata": {},
          "execution_count": 15
        }
      ]
    },
    {
      "cell_type": "code",
      "metadata": {
        "id": "58zrrGp03MPr",
        "colab": {
          "base_uri": "https://localhost:8080/"
        },
        "outputId": "76c58128-2f45-4d67-a42d-05c231112efc"
      },
      "source": [
        "weights.sort_values(ascending=False)"
      ],
      "execution_count": 16,
      "outputs": [
        {
          "output_type": "execute_result",
          "data": {
            "text/plain": [
              "2     60\n",
              "5     60\n",
              "10    60\n",
              "18    60\n",
              "20    59\n",
              "17    58\n",
              "26    57\n",
              "29    56\n",
              "28    55\n",
              "8     55\n",
              "19    55\n",
              "11    55\n",
              "23    54\n",
              "15    54\n",
              "16    53\n",
              "13    53\n",
              "9     52\n",
              "6     52\n",
              "12    51\n",
              "0     51\n",
              "14    50\n",
              "4     50\n",
              "3     50\n",
              "21    49\n",
              "22    49\n",
              "24    48\n",
              "25    48\n",
              "1     47\n",
              "27    47\n",
              "7     46\n",
              "dtype: int64"
            ]
          },
          "metadata": {},
          "execution_count": 16
        }
      ]
    },
    {
      "cell_type": "markdown",
      "metadata": {
        "id": "f_gvj2iuBojX"
      },
      "source": [
        "---"
      ]
    },
    {
      "cell_type": "markdown",
      "metadata": {
        "id": "JzMxsDyM1xjF"
      },
      "source": [
        "####The `median()` Function"
      ]
    },
    {
      "cell_type": "code",
      "metadata": {
        "id": "7ow8yIRJIVkH",
        "colab": {
          "base_uri": "https://localhost:8080/"
        },
        "outputId": "714c7002-d62e-4ae5-e112-1c019ad0490f"
      },
      "source": [
        "weights.median()"
      ],
      "execution_count": 17,
      "outputs": [
        {
          "output_type": "execute_result",
          "data": {
            "text/plain": [
              "53.0"
            ]
          },
          "metadata": {},
          "execution_count": 17
        }
      ]
    },
    {
      "cell_type": "markdown",
      "metadata": {
        "id": "miV_5-BUBqgo"
      },
      "source": [
        "---"
      ]
    },
    {
      "cell_type": "markdown",
      "metadata": {
        "id": "OzwfreqNImoh"
      },
      "source": [
        "####The `value_counts()` Function"
      ]
    },
    {
      "cell_type": "code",
      "metadata": {
        "id": "oXpzD6kCIrFc",
        "colab": {
          "base_uri": "https://localhost:8080/"
        },
        "outputId": "6e2dc99f-982a-43dc-9e06-c36782b976cd"
      },
      "source": [
        "weights.value_counts()"
      ],
      "execution_count": 18,
      "outputs": [
        {
          "output_type": "execute_result",
          "data": {
            "text/plain": [
              "60    4\n",
              "55    4\n",
              "50    3\n",
              "51    2\n",
              "47    2\n",
              "52    2\n",
              "53    2\n",
              "54    2\n",
              "49    2\n",
              "48    2\n",
              "46    1\n",
              "58    1\n",
              "59    1\n",
              "57    1\n",
              "56    1\n",
              "dtype: int64"
            ]
          },
          "metadata": {},
          "execution_count": 18
        }
      ]
    },
    {
      "cell_type": "markdown",
      "metadata": {
        "id": "fxkchvyXiCdB"
      },
      "source": [
        "---"
      ]
    },
    {
      "cell_type": "markdown",
      "metadata": {
        "id": "B23a94-4WOlM"
      },
      "source": [
        "####Calculate Mean"
      ]
    },
    {
      "cell_type": "code",
      "metadata": {
        "id": "dg7yWGx1WutI",
        "colab": {
          "base_uri": "https://localhost:8080/"
        },
        "outputId": "cd6c2e5f-952d-4600-899b-fe0da9fabf98"
      },
      "source": [
        "def compute_mean(num_series):\n",
        "  result = 0\n",
        "  for num in num_series:\n",
        "    result = result + num\n",
        "  return result / len(num_series)\n",
        "\n",
        "num_series = pd.Series([i for i in range(1, 11)])\n",
        "print(num_series)\n",
        "print(\"The required mean is\", compute_mean(num_series))"
      ],
      "execution_count": 19,
      "outputs": [
        {
          "output_type": "stream",
          "name": "stdout",
          "text": [
            "0     1\n",
            "1     2\n",
            "2     3\n",
            "3     4\n",
            "4     5\n",
            "5     6\n",
            "6     7\n",
            "7     8\n",
            "8     9\n",
            "9    10\n",
            "dtype: int64\n",
            "The required mean is 5.5\n"
          ]
        }
      ]
    },
    {
      "cell_type": "markdown",
      "metadata": {
        "id": "wQ_ax-_jXwl-"
      },
      "source": [
        "---"
      ]
    },
    {
      "cell_type": "markdown",
      "metadata": {
        "id": "HdJwhCPTXx82"
      },
      "source": [
        "####Calculate Median"
      ]
    },
    {
      "cell_type": "code",
      "metadata": {
        "id": "MiJY7Iz7XxSw",
        "colab": {
          "base_uri": "https://localhost:8080/"
        },
        "outputId": "94e6e5b5-d280-4762-86b0-b2a5edde37c8"
      },
      "source": [
        "def compute_median(num_series):\n",
        "  result = 0\n",
        "  num_list = [num for num in num_series]\n",
        "  num_list.sort()\n",
        "  if len(num_list) % 2 == 0:\n",
        "    result = (num_list[(len(num_list) // 2) - 1] + num_list[len(num_list) // 2]) / 2\n",
        "  else:\n",
        "    result = float(num_list[len(num_list) // 2])\n",
        "  return result\n",
        "\n",
        "num_series = pd.Series([random.randint(30, 60) for i in range(10)])\n",
        "print(\"Median without using the standard median() function:\", compute_median(num_series))\n",
        "print(\"Median using the standard median() function:\", num_series.median())"
      ],
      "execution_count": 20,
      "outputs": [
        {
          "output_type": "stream",
          "name": "stdout",
          "text": [
            "Median without using the standard median() function: 47.0\n",
            "Median using the standard median() function: 47.0\n"
          ]
        }
      ]
    },
    {
      "cell_type": "markdown",
      "metadata": {
        "id": "M9bsaKsMWNkN"
      },
      "source": [
        "---"
      ]
    },
    {
      "cell_type": "markdown",
      "metadata": {
        "id": "ILT3iPF-dKii"
      },
      "source": [
        "####The `head()` & `tail()` Functions With Negative Inputs\n"
      ]
    },
    {
      "cell_type": "code",
      "metadata": {
        "id": "SO6eMqksdTLO",
        "colab": {
          "base_uri": "https://localhost:8080/"
        },
        "outputId": "901c0b19-414c-470c-ba35-c937933eb29b"
      },
      "source": [
        "weights.head(-8)"
      ],
      "execution_count": 21,
      "outputs": [
        {
          "output_type": "execute_result",
          "data": {
            "text/plain": [
              "0     51\n",
              "1     47\n",
              "2     60\n",
              "3     50\n",
              "4     50\n",
              "5     60\n",
              "6     52\n",
              "7     46\n",
              "8     55\n",
              "9     52\n",
              "10    60\n",
              "11    55\n",
              "12    51\n",
              "13    53\n",
              "14    50\n",
              "15    54\n",
              "16    53\n",
              "17    58\n",
              "18    60\n",
              "19    55\n",
              "20    59\n",
              "21    49\n",
              "dtype: int64"
            ]
          },
          "metadata": {},
          "execution_count": 21
        }
      ]
    },
    {
      "cell_type": "code",
      "metadata": {
        "id": "6rXUegQhdWrf",
        "colab": {
          "base_uri": "https://localhost:8080/"
        },
        "outputId": "06742b1b-36de-4fda-b74b-10b2613ebccc"
      },
      "source": [
        "weights.tail(-8)"
      ],
      "execution_count": 22,
      "outputs": [
        {
          "output_type": "execute_result",
          "data": {
            "text/plain": [
              "8     55\n",
              "9     52\n",
              "10    60\n",
              "11    55\n",
              "12    51\n",
              "13    53\n",
              "14    50\n",
              "15    54\n",
              "16    53\n",
              "17    58\n",
              "18    60\n",
              "19    55\n",
              "20    59\n",
              "21    49\n",
              "22    49\n",
              "23    54\n",
              "24    48\n",
              "25    48\n",
              "26    57\n",
              "27    47\n",
              "28    55\n",
              "29    56\n",
              "dtype: int64"
            ]
          },
          "metadata": {},
          "execution_count": 22
        }
      ]
    },
    {
      "cell_type": "markdown",
      "metadata": {
        "id": "horZsDSoaTp1"
      },
      "source": [
        "---"
      ]
    }
  ]
}