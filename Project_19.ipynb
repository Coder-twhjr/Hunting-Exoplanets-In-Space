{
  "nbformat": 4,
  "nbformat_minor": 0,
  "metadata": {
    "colab": {
      "provenance": [],
      "collapsed_sections": [],
      "include_colab_link": true
    },
    "kernelspec": {
      "name": "python3",
      "display_name": "Python 3"
    }
  },
  "cells": [
    {
      "cell_type": "markdown",
      "metadata": {
        "id": "view-in-github",
        "colab_type": "text"
      },
      "source": [
        "<a href=\"https://colab.research.google.com/github/Coder-twhjr/Hunting-Exoplanets-In-Space/blob/main/Project_19.ipynb\" target=\"_parent\"><img src=\"https://colab.research.google.com/assets/colab-badge.svg\" alt=\"Open In Colab\"/></a>"
      ]
    },
    {
      "cell_type": "markdown",
      "metadata": {
        "id": "bEyBzxYRhrLG"
      },
      "source": [
        "#### Goal of the Project\n",
        "\n",
        "  1.  Improving The Algorithm (Functions)\n",
        "  2.  Scatter and Line Plots\n",
        "  "
      ]
    },
    {
      "cell_type": "markdown",
      "metadata": {
        "id": "DPOFIO3EHncO"
      },
      "source": [
        "---"
      ]
    },
    {
      "cell_type": "markdown",
      "metadata": {
        "id": "q4fH06mIjuK3"
      },
      "source": [
        "####Creating Scatter plot"
      ]
    },
    {
      "cell_type": "code",
      "metadata": {
        "id": "Oag8PLVXgo6c",
        "colab": {
          "base_uri": "https://localhost:8080/",
          "height": 295
        },
        "outputId": "48c70290-da1e-4183-c62d-8b46eaa0c553"
      },
      "source": [
        "import matplotlib.pyplot as plt\n",
        "unemployment_rate = [6.2,5.8,5.7,5.5,5.3,5.2,5.9]\n",
        "stock_price = [1600,1500,1530,1540,1620,1534,1565]\n",
        "\n",
        "plt.scatter(unemployment_rate, stock_price, color='green')\n",
        "plt.title('Unemployment Rate Vs Stock Price')\n",
        "plt.xlabel('Unemployment Rate')\n",
        "plt.ylabel('Stock Price')\n",
        "plt.show()"
      ],
      "execution_count": 1,
      "outputs": [
        {
          "output_type": "display_data",
          "data": {
            "text/plain": [
              "<Figure size 432x288 with 1 Axes>"
            ],
            "image/png": "[encoded data removed]"
          },
          "metadata": {
            "needs_background": "light"
          }
        }
      ]
    },
    {
      "cell_type": "markdown",
      "metadata": {
        "id": "xJlPs9X9oeRw"
      },
      "source": [
        "---"
      ]
    },
    {
      "cell_type": "markdown",
      "metadata": {
        "id": "oxQdooOzjQ13"
      },
      "source": [
        "#### Creating Line Plot\n",
        "\n",
        "**Unemployment Rate** across time. \n",
        "\n",
        "\n",
        "|Year| Rate|\n",
        "|-|-|\n",
        "|1920|<t>9.8|\n",
        "|||\n",
        "|1930|12|\n",
        "|||\n",
        "|1940|8|\n",
        "|||\n",
        "|1950|7.2|\n",
        "|||\n",
        "|1960|6.9|\n",
        "|||\n",
        "|1970|7|\n",
        "|||\n",
        "|1980|6.5|\n",
        "|||\n",
        "|1990|6.2|\n",
        "|||\n",
        "|2000|5.5|\n",
        "|||\n",
        "|2010|6.3|\n",
        "\n",
        "\n"
      ]
    },
    {
      "cell_type": "code",
      "metadata": {
        "id": "3dB7XTzxlaH8",
        "colab": {
          "base_uri": "https://localhost:8080/",
          "height": 295
        },
        "outputId": "2da31835-c51c-4eee-967a-6b9c7a275556"
      },
      "source": [
        "year = [1920,1930,1940,1950,1960,1970,1980,1990,2000,2010]\n",
        "unemployment_rate = [9.8,12,8,7.2,6.9,7,6.5,6.2,5.5,6.3]\n",
        "\n",
        "plt.plot(year, unemployment_rate, color='red', marker='o')\n",
        "plt.title('Unemployment Rate Vs Year')\n",
        "plt.xlabel('Year')\n",
        "plt.ylabel('Unemployment Rate')\n",
        "\n",
        "plt.show()"
      ],
      "execution_count": 2,
      "outputs": [
        {
          "output_type": "display_data",
          "data": {
            "text/plain": [
              "<Figure size 432x288 with 1 Axes>"
            ],
            "image/png": "[encoded data removed]"
          },
          "metadata": {
            "needs_background": "light"
          }
        }
      ]
    },
    {
      "cell_type": "markdown",
      "metadata": {
        "id": "RCB5F_kEH_y8"
      },
      "source": [
        "---"
      ]
    },
    {
      "cell_type": "markdown",
      "metadata": {
        "id": "b4aeCDi0pkJz"
      },
      "source": [
        "####Tower of Hanoi\n",
        "\n",
        "Tower of Hanoi is a  puzzle where we have three towers and n disks. The objective of the puzzle is to move the entire stack to another tower, obeying the following simple rules:\n",
        "\n",
        "1. Only one disk can be moved at a time.\n",
        "2. Each move consists of taking the upper disk from one of the stacks and placing it on top of another stack i.e. a disk can only be moved if it is the uppermost disk on a stack.\n",
        "3. No disk may be placed on top of a smaller disk.\n",
        "\n",
        "![animation](https://i.imgur.com/Vz98flW.gif)\n",
        "\n",
        "\n",
        "Create a function to calculate minimum number of steps required to move the all the disks from first tower to third tower.\n",
        "\n",
        "**Hint:** The minimum number of steps required to move the disks is equal to $2^n - 1$ where $n$ is the number of disks and $2$ is the number of towers the disks needs to be shifted.\n",
        "\n",
        "\n",
        "\n",
        "**Example:** Minimum number of steps required to shift 5 disks is 31\n",
        "\n",
        "Follow the steps given below to achieve the desired result:\n",
        "\n",
        "  - **Step 1**: Create a function (let's say `tower_hanoi()`) that takes an integer `disks` as a parameter and returns the minimum amount of steps needed to complete the game.\n",
        "\n",
        "  - **Step 2**: Use $2^n - 1$ to return the result\n",
        "\n",
        "  - **Step 3**: Call the function and check the result\n"
      ]
    },
    {
      "cell_type": "code",
      "metadata": {
        "id": "d5ufKLNYzsIl",
        "colab": {
          "base_uri": "https://localhost:8080/"
        },
        "outputId": "3f698c68-a167-4aeb-ae8c-198de22562ad"
      },
      "source": [
        "def tower_hanoi(disks):\n",
        "  return (2 ** disks)-1\n",
        "\n",
        "tower_hanoi(5)"
      ],
      "execution_count": 3,
      "outputs": [
        {
          "output_type": "execute_result",
          "data": {
            "text/plain": [
              "31"
            ]
          },
          "metadata": {},
          "execution_count": 3
        }
      ]
    },
    {
      "cell_type": "markdown",
      "metadata": {
        "id": "HSz7jRSlGxIO"
      },
      "source": [
        "---"
      ]
    }
  ]
}