{
  "nbformat": 4,
  "nbformat_minor": 0,
  "metadata": {
    "colab": {
      "provenance": [],
      "collapsed_sections": [],
      "include_colab_link": true
    },
    "kernelspec": {
      "name": "python3",
      "display_name": "Python 3"
    }
  },
  "cells": [
    {
      "cell_type": "markdown",
      "metadata": {
        "id": "view-in-github",
        "colab_type": "text"
      },
      "source": [
        "<a href=\"https://colab.research.google.com/github/Coder-twhjr/Hunting-Exoplanets-In-Space/blob/main/Project_18.ipynb\" target=\"_parent\"><img src=\"https://colab.research.google.com/assets/colab-badge.svg\" alt=\"Open In Colab\"/></a>"
      ]
    },
    {
      "cell_type": "markdown",
      "metadata": {
        "id": "fIKnY8occu37"
      },
      "source": [
        "#### Goal of the Project\n",
        "\n",
        "1. While Loop, Data-Type Conversion and Conditional Statements.\n",
        "\n",
        "2. Python Lists (`for` Loop).\n"
      ]
    },
    {
      "cell_type": "markdown",
      "metadata": {
        "id": "BBqkpH4_Doqe"
      },
      "source": [
        "---"
      ]
    },
    {
      "cell_type": "markdown",
      "metadata": {
        "id": "BVT9G_baB1aq"
      },
      "source": [
        "####Last Digit Ultimate\n",
        "\n",
        "\n",
        "**Examples**\n",
        "```\n",
        "1. last_dig(25, 21, 125) ➞ True\n",
        "# The last digit of 25 is 5, the last digit of 21 is 1, \n",
        "# last digit of 125 is 5, and the last digit of 5*1 = 5, \n",
        "# which is equal to the last digit of 125 i.e. 5\n",
        "\n",
        "2. last_dig(55, 226, 5190) ➞ True\n",
        "# The last digit of 55 is 5, the last digit of 226 is 6,\n",
        "# last digit of 5190 is 0, and the last digit of 5*6 = 30 i.e. 0, \n",
        "# which is equal to the last digit of 5190 i.e. 0\n",
        "\n",
        "3. last_dig(12, 215, 2142) ➞ False\n",
        "# The last digit of 12 is 2, the last digit of 215 is 5, \n",
        "# last digit of 2142 is 2, and the last digit of 2*5 = 10 is 0, \n",
        "# which is not equal to the last digit of 2142 i.e. 2\n",
        "```\n"
      ]
    },
    {
      "cell_type": "code",
      "metadata": {
        "id": "0pIGxKG9B3mb",
        "colab": {
          "base_uri": "https://localhost:8080/"
        },
        "outputId": "5c78ef74-86bd-4b3f-954f-47f7bd1c2685"
      },
      "source": [
        "def last_dig(num1, num2, num3):\n",
        "\ta = num1 % 10\n",
        "\tb = num2 % 10\n",
        "\tc = num3 % 10\n",
        "\tchk = (a * b) % 10\n",
        "\tif chk == c:\n",
        "\t\treturn True\n",
        "\treturn False\n",
        "\n",
        "last_dig(55, 226, 5190)"
      ],
      "execution_count": 1,
      "outputs": [
        {
          "output_type": "execute_result",
          "data": {
            "text/plain": [
              "True"
            ]
          },
          "metadata": {},
          "execution_count": 1
        }
      ]
    },
    {
      "cell_type": "markdown",
      "metadata": {
        "id": "JuwBMIeFB9xY"
      },
      "source": [
        "---"
      ]
    },
    {
      "cell_type": "markdown",
      "metadata": {
        "id": "qA-b1CdeofKc"
      },
      "source": [
        "####Pentagonal Number\n",
        "\n",
        "Given a number $num$ as a positive integer, calculate how many dots exist in a pentagonal shape around the centre dot on the $Nth$ iteration.\n",
        "\n",
        "In the image below you can see in the first iteration there is only a single dot. On the second, there are 6 dots. On the third, there are 16 dots, and on the fourth there are 31 dots.\n",
        "\n",
        "<img src='https://student-datasets-bucket.s3.ap-south-1.amazonaws.com/images/pengatonal-number.png' width=500>\n",
        "\n",
        "**Constraint**\n",
        "\n",
        "$num > 0$\n",
        "\n",
        "**Sample Input 1**\n",
        "```\n",
        "2\n",
        "```\n",
        "\n",
        "**Sample Output 1**\n",
        "```\n",
        "6\n",
        "```\n",
        "\n",
        "**Sample Input 2**\n",
        "```\n",
        "3\n",
        "```\n",
        "\n",
        "**Sample Output 2**\n",
        "```\n",
        "16\n",
        "```\n"
      ]
    },
    {
      "cell_type": "code",
      "metadata": {
        "id": "AtvPTG3kpBoS",
        "colab": {
          "base_uri": "https://localhost:8080/"
        },
        "outputId": "9f0b78ad-74ab-42ec-ab77-fbf21e825ecd"
      },
      "source": [
        "def pentagonal(num):\n",
        "\tans = 1\n",
        "\tfor i in range(1,num):\n",
        "\t\tans += (5*i)\n",
        "\treturn ans\n",
        "\n",
        "pentagonal(9)"
      ],
      "execution_count": 2,
      "outputs": [
        {
          "output_type": "execute_result",
          "data": {
            "text/plain": [
              "181"
            ]
          },
          "metadata": {},
          "execution_count": 2
        }
      ]
    },
    {
      "cell_type": "markdown",
      "metadata": {
        "id": "KOVBiUSMzut1"
      },
      "source": [
        "---"
      ]
    }
  ]
}