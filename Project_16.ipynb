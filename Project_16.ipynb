{
  "nbformat": 4,
  "nbformat_minor": 0,
  "metadata": {
    "colab": {
      "provenance": [],
      "collapsed_sections": [],
      "include_colab_link": true
    },
    "kernelspec": {
      "name": "python3",
      "display_name": "Python 3"
    }
  },
  "cells": [
    {
      "cell_type": "markdown",
      "metadata": {
        "id": "view-in-github",
        "colab_type": "text"
      },
      "source": [
        "<a href=\"https://colab.research.google.com/github/Coder-twhjr/Hunting-Exoplanets-In-Space/blob/main/Project_16.ipynb\" target=\"_parent\"><img src=\"https://colab.research.google.com/assets/colab-badge.svg\" alt=\"Open In Colab\"/></a>"
      ]
    },
    {
      "cell_type": "markdown",
      "metadata": {
        "id": "fIKnY8occu37"
      },
      "source": [
        "#### Goal of the Project\n",
        "\n",
        "1. While Loop, Data-Type Conversion and Conditional Statements\n",
        "\n",
        "2. Python Lists\n"
      ]
    },
    {
      "cell_type": "markdown",
      "metadata": {
        "id": "BBqkpH4_Doqe"
      },
      "source": [
        "---"
      ]
    },
    {
      "cell_type": "code",
      "metadata": {
        "id": "4EAoTskqg041",
        "colab": {
          "base_uri": "https://localhost:8080/"
        },
        "outputId": "4793ae8d-fcbe-4611-bb01-cba98fd03068"
      },
      "source": [
        "def check_square_and_cube(lst):\n",
        "  if (lst[1] == (lst[0] ** 0.5) ** 3):\n",
        "    return True\n",
        "  else:\n",
        "    return False\n",
        "\n",
        "check_square_and_cube([4, 8])"
      ],
      "execution_count": 1,
      "outputs": [
        {
          "output_type": "execute_result",
          "data": {
            "text/plain": [
              "True"
            ]
          },
          "metadata": {},
          "execution_count": 1
        }
      ]
    },
    {
      "cell_type": "code",
      "metadata": {
        "id": "AtvPTG3kpBoS",
        "colab": {
          "base_uri": "https://localhost:8080/"
        },
        "outputId": "9fb77d0f-fe62-4e13-a04a-bfd8e30e8663"
      },
      "source": [
        "def sum_series(n):\n",
        "  max_num = 0 \n",
        "  total = 0 \n",
        "  count = n - 1 \n",
        "  while count >= 0:\n",
        "    max_num = max_num + (10 ** count) * n\n",
        "    count = count - 1\n",
        "  while n > 0:\n",
        "    total = total + max_num  \n",
        "    max_num = max_num // 10 \n",
        "    n = n - 1 \n",
        "  return total\n",
        "\n",
        "for i in range(1, 10):\n",
        "  print(sum_series(i))\n",
        "\n"
      ],
      "execution_count": 2,
      "outputs": [
        {
          "output_type": "stream",
          "name": "stdout",
          "text": [
            "1\n",
            "24\n",
            "369\n",
            "4936\n",
            "61725\n",
            "740736\n",
            "8641969\n",
            "98765424\n",
            "1111111101\n"
          ]
        }
      ]
    },
    {
      "cell_type": "markdown",
      "metadata": {
        "id": "KOVBiUSMzut1"
      },
      "source": [
        "---"
      ]
    }
  ]
}