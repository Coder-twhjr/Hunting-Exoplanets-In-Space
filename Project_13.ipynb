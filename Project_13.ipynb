{
  "nbformat": 4,
  "nbformat_minor": 0,
  "metadata": {
    "colab": {
      "provenance": [],
      "collapsed_sections": [],
      "include_colab_link": true
    },
    "kernelspec": {
      "name": "python3",
      "display_name": "Python 3"
    }
  },
  "cells": [
    {
      "cell_type": "markdown",
      "metadata": {
        "id": "view-in-github",
        "colab_type": "text"
      },
      "source": [
        "<a href=\"https://colab.research.google.com/github/Coder-twhjr/Hunting-Exoplanets-In-Space/blob/main/Project_13.ipynb\" target=\"_parent\"><img src=\"https://colab.research.google.com/assets/colab-badge.svg\" alt=\"Open In Colab\"/></a>"
      ]
    },
    {
      "cell_type": "markdown",
      "metadata": {
        "id": "bEyBzxYRhrLG"
      },
      "source": [
        "#### Goal of the Project\n",
        "\n",
        "\n",
        "  1.  Python List II\n",
        "  3.  Pandas Series"
      ]
    },
    {
      "cell_type": "markdown",
      "metadata": {
        "id": "DPOFIO3EHncO"
      },
      "source": [
        "---"
      ]
    },
    {
      "cell_type": "code",
      "metadata": {
        "id": "4EAoTskqg041",
        "colab": {
          "base_uri": "https://localhost:8080/"
        },
        "outputId": "a132998b-662e-4618-b19c-1e5ba06ca6b9"
      },
      "source": [
        "import random\n",
        "import pandas as pd \n",
        "num_series = pd.Series([random.randint(130, 145) for i in range(40)])\n",
        "print(num_series)\n"
      ],
      "execution_count": 1,
      "outputs": [
        {
          "output_type": "stream",
          "name": "stdout",
          "text": [
            "0     138\n",
            "1     141\n",
            "2     140\n",
            "3     135\n",
            "4     131\n",
            "5     133\n",
            "6     145\n",
            "7     132\n",
            "8     134\n",
            "9     132\n",
            "10    141\n",
            "11    138\n",
            "12    143\n",
            "13    130\n",
            "14    144\n",
            "15    144\n",
            "16    142\n",
            "17    132\n",
            "18    144\n",
            "19    145\n",
            "20    139\n",
            "21    142\n",
            "22    137\n",
            "23    142\n",
            "24    132\n",
            "25    141\n",
            "26    142\n",
            "27    133\n",
            "28    144\n",
            "29    130\n",
            "30    132\n",
            "31    142\n",
            "32    136\n",
            "33    145\n",
            "34    130\n",
            "35    131\n",
            "36    136\n",
            "37    135\n",
            "38    141\n",
            "39    140\n",
            "dtype: int64\n"
          ]
        }
      ]
    },
    {
      "cell_type": "markdown",
      "metadata": {
        "id": "H4JT7cLU21lW"
      },
      "source": [
        "---"
      ]
    },
    {
      "cell_type": "code",
      "metadata": {
        "id": "2g8Itdkx0ZX5",
        "colab": {
          "base_uri": "https://localhost:8080/"
        },
        "outputId": "4e2b4133-c9b9-4cfe-8899-0e098e9494c3"
      },
      "source": [
        "print(\"Mean:\",num_series.mean())\n",
        "print(\"Median:\",num_series.median())"
      ],
      "execution_count": 2,
      "outputs": [
        {
          "output_type": "stream",
          "name": "stdout",
          "text": [
            "Mean: 137.85\n",
            "Median: 138.5\n"
          ]
        }
      ]
    },
    {
      "cell_type": "markdown",
      "metadata": {
        "id": "2x82_lCI2yzK"
      },
      "source": [
        "---"
      ]
    },
    {
      "cell_type": "code",
      "metadata": {
        "id": "GOnSoo392Bmu",
        "colab": {
          "base_uri": "https://localhost:8080/"
        },
        "outputId": "c153e05b-9467-4293-d2ba-e29930aac206"
      },
      "source": [
        "print(\"Minimum value in the series:\",num_series.min())\n",
        "print(\"Maximum value in the series\",num_series.max())"
      ],
      "execution_count": 3,
      "outputs": [
        {
          "output_type": "stream",
          "name": "stdout",
          "text": [
            "Minimum value in the series: 130\n",
            "Maximum value in the series 145\n"
          ]
        }
      ]
    },
    {
      "cell_type": "markdown",
      "metadata": {
        "id": "--MY5L-z2wFu"
      },
      "source": [
        "---"
      ]
    },
    {
      "cell_type": "code",
      "metadata": {
        "id": "4c70mF7Y2dID",
        "colab": {
          "base_uri": "https://localhost:8080/"
        },
        "outputId": "40eb19ad-6a79-4765-f160-e78ed68b4046"
      },
      "source": [
        "num_series.sort_values(ascending=False).tail()"
      ],
      "execution_count": 4,
      "outputs": [
        {
          "output_type": "execute_result",
          "data": {
            "text/plain": [
              "4     131\n",
              "35    131\n",
              "13    130\n",
              "29    130\n",
              "34    130\n",
              "dtype: int64"
            ]
          },
          "metadata": {},
          "execution_count": 4
        }
      ]
    },
    {
      "cell_type": "markdown",
      "metadata": {
        "id": "xJlPs9X9oeRw"
      },
      "source": [
        "---"
      ]
    },
    {
      "cell_type": "code",
      "metadata": {
        "id": "d5ufKLNYzsIl",
        "colab": {
          "base_uri": "https://localhost:8080/"
        },
        "outputId": "687e5818-4fa9-439e-fc2b-6d2608c39cb1"
      },
      "source": [
        "def lines_are_parallel(line1, line2):\n",
        "\tslope1 = line1[0] / line1[1]   \n",
        "\tslope2 = line2[0] / line2[1]\n",
        "\tif slope1 == slope2:\n",
        "\t\treturn True\n",
        "\telse:\n",
        "\t\treturn False\n",
        "    \n",
        "line1 = [2,3,4] \n",
        "line2 = [4,6,8]\n",
        "print(\"Are lines parallel?\")\n",
        "lines_are_parallel(line1, line2)"
      ],
      "execution_count": 5,
      "outputs": [
        {
          "output_type": "stream",
          "name": "stdout",
          "text": [
            "Are lines parallel?\n"
          ]
        },
        {
          "output_type": "execute_result",
          "data": {
            "text/plain": [
              "True"
            ]
          },
          "metadata": {},
          "execution_count": 5
        }
      ]
    },
    {
      "cell_type": "markdown",
      "metadata": {
        "id": "HSz7jRSlGxIO"
      },
      "source": [
        "---"
      ]
    }
  ]
}